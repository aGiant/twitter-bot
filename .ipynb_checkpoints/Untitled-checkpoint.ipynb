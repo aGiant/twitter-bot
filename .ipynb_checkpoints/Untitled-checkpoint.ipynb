{
 "cells": [
  {
   "cell_type": "code",
   "execution_count": 4,
   "metadata": {},
   "outputs": [],
   "source": [
    "# !pip install tweepy"
   ]
  },
  {
   "cell_type": "code",
   "execution_count": 22,
   "metadata": {},
   "outputs": [],
   "source": [
    "import json\n",
    "import tweepy\n",
    "import requests\n",
    "from datetime import datetime as dt"
   ]
  },
  {
   "cell_type": "markdown",
   "metadata": {},
   "source": [
    "In this article, we are building a bot to automate twitter tasks. This program can integrate with the Twitter platform, automatically posting, retweeting, liking, or following other users.\n",
    "\n",
    "To create a Twitter bot we'll be using tweetpy. It manages the Twitter API calls and provides a simple interface. We are adding the bellow functionality for now. later we can add more\n",
    "\n",
    "* Follow Back\n",
    "* Tweet chuck norris joke once a week\n",
    "* Retweet\n",
    "\n",
    "First step is to get the credential from twitter.com, you can use this link https://developer.twitter.com/apps to fillin some basic details and create an app. Once you have done that you can access Consumer Key (API Key) and the Consumer Secret (API Secret), both available from the Keys and Access Tokens which will be used to authenticate tweetpy session.\n",
    "\n",
    "Second steps to create functions for different tasks. Now we'll create some functions to access different features.\n",
    "\n",
    "1: \n",
    "\n",
    "Run and consolidate\n",
    "\n",
    "\n",
    "Final Notes: \n",
    "We now have a working Twitter bot. We only have some basic features for now but we can add more features based on the requirements. We can also built some use cases to solve a specific need or do some basic ML tasks like sentiment analysis and other kind of text analysis"
   ]
  },
  {
   "cell_type": "markdown",
   "metadata": {},
   "source": [
    "## Authencating the API\n",
    "\n",
    "* The code bellow will authenticate the API so that we can use the functionality"
   ]
  },
  {
   "cell_type": "code",
   "execution_count": 28,
   "metadata": {},
   "outputs": [
    {
     "name": "stdout",
     "output_type": "stream",
     "text": [
      "{'consumer_key': '', 'consumer_secret': '', 'access_token': '', 'access_token_secret': ''}\n"
     ]
    }
   ],
   "source": [
    "with open(\"config.json\", 'r') as config_file:\n",
    "    config = json.load(config_file)\n",
    "\n",
    "creds = config[0]['twitter']\n",
    "print(creds)"
   ]
  },
  {
   "cell_type": "code",
   "execution_count": 27,
   "metadata": {},
   "outputs": [
    {
     "name": "stdout",
     "output_type": "stream",
     "text": [
      "\n",
      "Authenticated\n"
     ]
    }
   ],
   "source": [
    "consumer_key = creds['consumer_key']\n",
    "consumer_secret = creds['consumer_secret']\n",
    "access_token = creds['access_token']\n",
    "access_token_secret = creds['access_token_secret']\n",
    "print(access_token_secret)\n",
    "auth = tweepy.OAuthHandler(consumer_key, consumer_secret)\n",
    "auth.set_access_token(access_token, access_token_secret)\n",
    "api = tweepy.API(auth)\n",
    "print(\"Authenticated\")"
   ]
  },
  {
   "cell_type": "markdown",
   "metadata": {},
   "source": [
    "Now that we have all the credentials needed and our api is authenticated, we can write small functions to do a pirticular task. We can consolidate these functions to make our final bot"
   ]
  },
  {
   "cell_type": "markdown",
   "metadata": {},
   "source": [
    "#### Show 20 most recent messages on your timeline"
   ]
  },
  {
   "cell_type": "code",
   "execution_count": 38,
   "metadata": {},
   "outputs": [
    {
     "name": "stdout",
     "output_type": "stream",
     "text": [
      "What Western marketers can learn from China — to reach people there or all around the world. https://t.co/RBAnXb5B4E\n",
      "-----------------------------------\n",
      "RT @jarnhus: @math_rachel @jeremyphoward If you need more examples, the Danish phrase \"Vi mødte hans kæreste\" extends the bias to sexuality…\n",
      "-----------------------------------\n",
      "Congratulations @SueDHellmann on your 5th anniversary @gatesfoundation. Your leadership on some of the world’s toug… https://t.co/oNvoClCO3i\n",
      "-----------------------------------\n",
      "India may be witnessing the next ‘WhatsApp election.’ Disinformation, from false reports of what politicians said t… https://t.co/LSgnsoT360\n",
      "-----------------------------------\n",
      "It’s time for innovation to undergo a behavioral revolution. https://t.co/v8BXOzRiAq\n",
      "-----------------------------------\n",
      "Wonderful. https://t.co/kgJhm86g7r\n",
      "-----------------------------------\n",
      "Build better presentations with our subscriber-exclusive Visual Library. HBR charts, slides, and infographics - you… https://t.co/wnLbIiZLcZ\n",
      "-----------------------------------\n",
      "I feel this way, every single day, even on the hard days, about my work. \n",
      "\n",
      "“When your toil has been a pleasure, you… https://t.co/XAtgZgpwOr\n",
      "-----------------------------------\n",
      "RT @SwissCognitive: Artificial intelligence is giving us more accurate air pollution forecasts, potentially saving lives. \n",
      "\n",
      "#AI #AirPolluti…\n",
      "-----------------------------------\n",
      "RT @DalithSteiger: #AIBest by @KirkDBorne \n",
      "https://t.co/PODlV9CJfS \n",
      "9+ Unsolved Problems in #MachineLearning: https://t.co/ylXcmqJx4Z #abds…\n",
      "-----------------------------------\n",
      "RT @mrogati: Metrics. Choose carefully. http://t.co/nJN2T1r1va\n",
      "-----------------------------------\n",
      "RT @davidaxelrod: .@KamalaHarris elicited what seemed to me to be a pretty astonishing admission from Barr that neither he nor Rosenstein o…\n",
      "-----------------------------------\n",
      "Even when leaders say they’re on board with a certain strategy, they may not be willing to allocate their resources… https://t.co/Ug3IPeyJTg\n",
      "-----------------------------------\n",
      "Love it. So true. And I've been guilty of this too, but not (hopefully) for years. \n",
      "\n",
      "Even worse, I worked with a gu… https://t.co/zQNKTRdG0u\n",
      "-----------------------------------\n",
      "Support for breastfeeding employees needs to start at the top of the organization. https://t.co/KCRu496KfW\n",
      "-----------------------------------\n",
      "RT @Abebab: My tweets serve as my archives and come back to them every time I am preparing a presentation. \n",
      "\n",
      "I am looking for technology th…\n",
      "-----------------------------------\n",
      "How to Grid Search SARIMA Model Hyperparameters for Time Series Forecasting in Python https://t.co/jKFabkn6P0\n",
      "-----------------------------------\n",
      "RT @facebookai: Learn how Facebook uses state-of-the-art language, image, and video understanding techniques to detect harmful content. htt…\n",
      "-----------------------------------\n",
      "Authenticity is bringing your whole self to work.\n",
      "\n",
      "Excellence is bringing your best self to work.\n",
      "\n",
      "#WednesdayMotivation\n",
      "-----------------------------------\n"
     ]
    }
   ],
   "source": [
    "def print_timeline():\n",
    "    public_tweets = api.home_timeline()\n",
    "    for tweet in public_tweets:\n",
    "        print(tweet.text)\n",
    "        print(\"-----------------------------------\")\n",
    "        \n",
    "print_timeline()"
   ]
  },
  {
   "cell_type": "markdown",
   "metadata": {},
   "source": [
    "#### Get a list of all followers"
   ]
  },
  {
   "cell_type": "code",
   "execution_count": 4,
   "metadata": {},
   "outputs": [
    {
     "name": "stdout",
     "output_type": "stream",
     "text": [
      "['Mona Bishnoi', 'Anne Albarez', 'Genius U', 'iDoser', 'अन्तर्राष्ट्रीय ब्राह्मण महासंस्था(इकाई)', 'Anu Jayakumar', 'Yatish Kumar Sharma', 'Ryan Buchanan', 'MB Consulting NJ', 'Naveen Chauhan', 'Harjeet Singh', 'Ankur Singh', 'DJ Márcio ventura', 'Ravula karthik', 'paquita', 'Tammy', 'Jules Dukes', 'Chan_Soon_Heng♡33Ï', 'raghav bond', 'Party.Catering', 'Sarah', 'Rishi Jain', 'kashif', 'bebo rathore', 'Tera Bhai Hai Na', 'govindsingh', 'lakshay tokas', 'Andra Mcglumphy', 'Hootsuite', 'elle', 'Ashish Pant', 'Nansen Malin', 'nikhil gupta', 'Alpana Upadhyay', 'YourBlogSource', 'prashant rajpoot', 'kerrilynn byrne', 'Anoop', 'Harriet Taylor', 'abbeycharlton', 'Jessica Elizabeth', 'sagar singh', 'Naveen Sriram', 'Joe Bunting', '♥ƒvø,  Mëkkøø ツ', 'amber.', 'Cara Mckee', 'HTX_MODEL', 'emma_louise.ox', 'Alice White', 'glendora ulrey', 'Enwerem Vincent Damon', 'Orlanzo Brown™', 'Stephanie Hopkinsh', 'SΘ ΘS ŦΘĐΛS', 'Мультфильмы онлайн', 'Kevin Sandega', 'Jacquie Feliciano', 'Anybeat Is Here', 'Jonny Knapp', \"i'm robyn, and you?\", 'Jodi Norris', 'T.y.', 'Matty Dukes', 'Kylie ∞', 'BlackTowerPublishing', 'aqua marshall', 'Alyssa De Journett', 'Pic-Safe for iPhone', 'Emily Walker', 'Emma Gratton', 'Aubяie Midoяi', 'Mike Frey', 'SHANNONJANE♥', 'Beckyyyyy', 'lora greaves', 'Desi Girl', 'Garett Nelson', 'Zeus', 'media', 'The Nude Truth', 'Honey Badger', 'natalie.', 'Ebenezer.', 'Beth-Harriett', '☺~hello sunshine~☺', 'Shawn T.', 'Moose', 'Rebecca Williams', 'Shana Henderson', 'Thank You TW', 'Becky Reade', 'Charlotte', 'C.Andretti ✈', 'phamducluong', 'Carmen Batres', 'k', 'Ron Pierce', 'Cath', 'Jasmine', 'Nicole burton', 'TheWorldOrNothing †', 'Brooke', 'Rae Ann Chapman', 'stephfisher♥', 'Matt D.', 'Annie', 'Sophie Leigh...', 'Elise Chandelier', 'Hermano', 'Mickle jones', 'Alex Parian', '☺ Garfield ☺', 'Alexander', 'Cece Dixon', 'Ivan Wienand', 'Anastasia', 'Christianna', 'Plumpcake Princess', 'Julz Dks1', 'Emeline Sykes', 'Beth✨', 'Prof Elemental', 'kirsty turner', 'Jen.', 'sierra cheshire', 'Lucy Watters👩🏻\\u200d🍳', 'Lo', 'paigeduffy', 'kels', 'shortstufff', 'Laura', 'til', 'Sneaky Priest!', 'Stu James Gardener', 'E M M A', 'Charl', 'Allana', 'Danielle Pagdin', 'Martina Cullinane', 'Jordan', 'Jessica Coole', 'F¥i ✞', 'Mous-tash', 'Samantha Simper', 'Adam Scott', 'Samantha Richardson', 'Katherine George', 'Selena Gomez ♥', 'joshua matthews', 'emily carrington', 'Jacob Rosenthal', 'old account', 'Steve', 'Bitcoin Future', 'Visionet India Inc.', 'pam 🌿👀🌿']\n"
     ]
    }
   ],
   "source": [
    "followers_list = []\n",
    "def get_twitter_follower():\n",
    "    followers = tweepy.Cursor(api.followers).items()\n",
    "    for follower in followers:\n",
    "        followers_list.append(follower.name)\n",
    "    print(followers_list)\n",
    "get_twitter_follower()"
   ]
  },
  {
   "cell_type": "markdown",
   "metadata": {},
   "source": [
    "#### Automaticlly retweet tweets from a specific user on a specific topic"
   ]
  },
  {
   "cell_type": "code",
   "execution_count": 243,
   "metadata": {},
   "outputs": [
    {
     "name": "stdout",
     "output_type": "stream",
     "text": [
      "[{'code': 327, 'message': 'You have already retweeted this Tweet.'}]\n"
     ]
    }
   ],
   "source": [
    "def write_log(payload):\n",
    "    \"\"\"Creates a log of all the actions performed by the bot \"\"\"\n",
    "    try:\n",
    "        with open(\"log.json\", 'r') as log_file:\n",
    "            data = json.load(log_file)\n",
    "            data.append(payload[0])\n",
    "        \n",
    "        print(\"Saving logs\")\n",
    "        with open(\"log.json\", 'w') as log_file:\n",
    "            json.dump(data, log_file)\n",
    "            \n",
    "    except FileNotFoundError:\n",
    "        print(\"Log file not found, writing new log\")\n",
    "        with open(\"log.json\", 'w') as log_file:\n",
    "            json.dump(payload, log_file)\n",
    "\n",
    "def retweet(query, username):\n",
    "    try:\n",
    "        with open(\"log.json\", 'r') as log_file:\n",
    "            data = json.load(log_file)\n",
    "        last_id = max([i['id'] for i in data])\n",
    "        for tweet in tweepy.Cursor(api.search, q=query, since_id=last_id).items():\n",
    "            try:\n",
    "                tweet.retweet()\n",
    "                print(\"Retweeted {} \".format(tweet.text))\n",
    "\n",
    "                ## Saving logs\n",
    "                tweet_id = tweet.id\n",
    "                text = tweet.text\n",
    "                payload = {\n",
    "                    \"id\": tweet_id,\n",
    "                    \"type\":\"retweet\",\n",
    "                    \"text\":text,\n",
    "                    \"addedon\": int(dt.strftime(dt.now(),\"%s\"))\n",
    "                }\n",
    "                write_log([payload])\n",
    "            except Exception as e:\n",
    "                print(e)\n",
    "                continue\n",
    "    except FileNotFoundError:\n",
    "        print(\"Log file not found, fetching last 10 tweets\")\n",
    "        for tweet in tweepy.Cursor(api.search, q=query, rpp=100).items(10):\n",
    "            try:\n",
    "                tweet.retweet()\n",
    "                print(\"Retweeted {} \".format(tweet.text))\n",
    "\n",
    "                ## Saving logs\n",
    "                tweet_id = tweet.id\n",
    "                text = tweet.text\n",
    "                payload = {\n",
    "                    \"id\": tweet_id,\n",
    "                    \"type\":\"retweet\",\n",
    "                    \"text\":text,\n",
    "                    \"addedon\": int(dt.strftime(dt.now(),\"%s\"))\n",
    "                }\n",
    "                write_log([payload])\n",
    "            except TweepError as e:\n",
    "                print(e)\n",
    "                continue\n",
    "\n",
    "retweet(\"#100DaysOfMLCode\", \"\")"
   ]
  },
  {
   "cell_type": "markdown",
   "metadata": {},
   "source": [
    "#### Automatically favorite any tweets from a specific user that have a specific phrase"
   ]
  },
  {
   "cell_type": "code",
   "execution_count": null,
   "metadata": {},
   "outputs": [],
   "source": [
    "def retweet(query, username):\n",
    "    \n",
    "    for tweet in tweepy.Cursor(api.search, q=\"fedoramagazine.org\",\n",
    "                               since_id=last_id).items():\n",
    "        if tweet.user.name == username:\n",
    "            store_last_id(tweet.id)\n",
    "            tweet.retweet()\n",
    "            print(\"Retweeted {} \".format(tweet.text))\n",
    "            \n",
    "retweet()"
   ]
  },
  {
   "cell_type": "markdown",
   "metadata": {},
   "source": [
    "#### Automatically unfollow any users that have not followed you back"
   ]
  },
  {
   "cell_type": "code",
   "execution_count": null,
   "metadata": {},
   "outputs": [],
   "source": []
  },
  {
   "cell_type": "markdown",
   "metadata": {},
   "source": [
    "#### Post a tweet on twitter"
   ]
  },
  {
   "cell_type": "code",
   "execution_count": 48,
   "metadata": {},
   "outputs": [],
   "source": [
    "def update_status(text):\n",
    "    self.api.update_status(line)"
   ]
  },
  {
   "cell_type": "code",
   "execution_count": null,
   "metadata": {},
   "outputs": [],
   "source": []
  },
  {
   "cell_type": "code",
   "execution_count": null,
   "metadata": {},
   "outputs": [],
   "source": []
  },
  {
   "cell_type": "code",
   "execution_count": null,
   "metadata": {},
   "outputs": [],
   "source": []
  },
  {
   "cell_type": "code",
   "execution_count": null,
   "metadata": {},
   "outputs": [],
   "source": [
    "import tweepy\n",
    "import requests\n",
    "\n",
    "class TwitterAPI:\n",
    "    \n",
    "    def __init__(self):\n",
    "        \n",
    "        consumer_key = 'U9GQKkQx7ka2TbghTDwzUiPUX'\n",
    "        consumer_secret = '5amHsTuZodHjXGpe90BVsB0vyiSo8TN7CoMCGFkiKKEO3DrTaw'\n",
    "        access_token = '361161456-gIwo93L3HwfjbZJeOdj8ICA6riFBJpT1M1DVWMdO'\n",
    "        access_token_secret = 'Cs7ubh4fugjLkKOx59daJOpCGZJtRbQGTzxXXmmRd5MSC'\n",
    "        \n",
    "        auth = tweepy.OAuthHandler(consumer_key, consumer_secret)\n",
    "        auth.set_access_token(access_token, access_token_secret)\n",
    "        api = tweepy.API(auth)\n",
    "        \n",
    "        user = api.me()\n",
    "        print(\"Connected user {}\".format(user.name))\n",
    "        \n",
    "    def get_chuck_joke():\n",
    "        url = \"http://api.icndb.com/jokes/random\"\n",
    "        jres = requests.get(url).json()\n",
    "        return jres['value']['joke']\n",
    "\n",
    "    def get_twitter_follower():\n",
    "        for follower in tweepy.Cursor(self.api.followers).items():\n",
    "            print(follower.name)\n",
    "\n",
    "    def update_status(text):\n",
    "        self.api.update_status(line)"
   ]
  }
 ],
 "metadata": {
  "kernelspec": {
   "display_name": "Python 3",
   "language": "python",
   "name": "python3"
  },
  "language_info": {
   "codemirror_mode": {
    "name": "ipython",
    "version": 3
   },
   "file_extension": ".py",
   "mimetype": "text/x-python",
   "name": "python",
   "nbconvert_exporter": "python",
   "pygments_lexer": "ipython3",
   "version": "3.7.0"
  }
 },
 "nbformat": 4,
 "nbformat_minor": 2
}

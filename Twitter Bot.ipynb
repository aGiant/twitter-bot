{
 "cells": [
  {
   "cell_type": "markdown",
   "metadata": {},
   "source": [
    "| ![TwitterBot](https://s3.amazonaws.com/com.twilio.prod.twilio-docs/images/twitter-python-logos.width-808.jpg) | \n",
    "|:--:| \n",
    "| *Pic credit https://www.twilio.com* |\n",
    "\n",
    "Social media is full of bots today and twitter is one of the most bot friendly enviorment these days. In this article, we are building a bot to automate twitter tasks. This program can integrate with the Twitter platform, automatically posting, retweeting, liking, or following other users.\n"
   ]
  },
  {
   "cell_type": "markdown",
   "metadata": {},
   "source": [
    "### How to make a Twitter bot\n",
    "\n",
    "To create a Twitter bot we'll be using tweetpy. It manages the Twitter API calls and provides a simple interface to work with. We can post tweet, like tweets and do much more with just a few lines of code. We can follow the bellow checklist to create our own bot\n",
    "\n",
    "#### Bot Checklist\n",
    "    \n",
    " 1. Make a task list for the bot\n",
    " 2. Apply for a developer account & Create a Twitter app\n",
    " 3. Authenticate\n",
    " 4. Program the bot\n",
    " 5. Deploy\n",
    "\n",
    "### 1 Tasks for the bot\n",
    "\n",
    "This is going to be a very simple bot, we are adding the bellow functionality for now. later we can add more depending on the need\n",
    "\n",
    "* Tweet chuck norris joke once a week\n",
    "* Retweet posts if it contains a specific # tag\n",
    "* Like tweets if it contains a specific # tag\n",
    "\n",
    "### 2. Apply for a developer account\n",
    "\n",
    "First step is to get the credential from twitter.com, we can use this link https://developer.twitter.com/apps to fill-in some basic details and create an app. Once done we can access Consumer Key (API Key) and the Consumer Secret (API Secret), both available from the Keys and Access Tokens which will be used to authenticate tweetpy session.\n"
   ]
  },
  {
   "cell_type": "markdown",
   "metadata": {},
   "source": [
    "### 3. Authenticate\n",
    "\n",
    "This step involves little bit of coding. Once we have applied for a developer account and create a twitter app. we can obtain the Consumer key, Consumer secret, Access token and Access token secret from the **Keys and tokens** tab.\n",
    "\n",
    "The code bellow will authenticate the API so that we can use the functionality. I am reading creadictials from a json file and using the credintials to authenticate the session but we can also save the credential in a form or string directly as mentioned on code comment"
   ]
  },
  {
   "cell_type": "code",
   "execution_count": 3,
   "metadata": {},
   "outputs": [
    {
     "name": "stdout",
     "output_type": "stream",
     "text": [
      "Connected user Naveen singh\n"
     ]
    }
   ],
   "source": [
    "import json \n",
    "import tweepy # !pip install tweepy\n",
    "import requests # !pip install requests\n",
    "from datetime import datetime as dt\n",
    "\n",
    "## Reading creadictials from a json file\n",
    "with open(\"localconfig.json\", 'r') as config_file:\n",
    "    config = json.load(config_file)\n",
    "creds = config[0]['twitter']\n",
    "\n",
    "## Saving credentials to a variable\n",
    "consumer_key = creds['consumer_key']                    # or \"your key xxxxxxxxxxxxx\"\n",
    "consumer_secret = creds['consumer_secret']              # or \"your key xxxxxxxxxxxxx\"\n",
    "access_token = creds['access_token']                    # or \"your key xxxxxxxxxxxxx\"\n",
    "access_token_secret = creds['access_token_secret']      # or \" your key xxxxxxxxxxxxx\"\n",
    "\n",
    "## Authenticating\n",
    "auth = tweepy.OAuthHandler(consumer_key, consumer_secret)\n",
    "auth.set_access_token(access_token, access_token_secret)\n",
    "api = tweepy.API(auth)\n",
    "\n",
    "user = api.me()\n",
    "print(\"Connected user {}\".format(user.name)) ## Printing authentication status"
   ]
  },
  {
   "cell_type": "markdown",
   "metadata": {},
   "source": [
    "### 4. Program the bot\n",
    "\n",
    "Now that we have all the credentials needed and our api is authenticated, we can write small functions to do a pirticular task. We can consolidate these functions to make our final bot"
   ]
  },
  {
   "cell_type": "markdown",
   "metadata": {},
   "source": [
    "##### A function that takes text as input and tweets it "
   ]
  },
  {
   "cell_type": "code",
   "execution_count": 70,
   "metadata": {},
   "outputs": [],
   "source": [
    "## Updating status update \n",
    "def update_status(text):\n",
    "    try:\n",
    "        api.update_status(text)\n",
    "        print(\"Status updated sucessfully\")\n",
    "    except Exception as e:\n",
    "        print(\"Error in update_status\", str(e))\n",
    "        \n",
    "update_status(\"Hi, this is just a msg to test twitter bot\")"
   ]
  },
  {
   "cell_type": "markdown",
   "metadata": {},
   "source": [
    "##### A Function that takes search query string as input searches for tweets with given query string and retweets it"
   ]
  },
  {
   "cell_type": "code",
   "execution_count": 72,
   "metadata": {},
   "outputs": [],
   "source": [
    "## Like a post and retweet\n",
    "def retweet_post(self, query):\n",
    "    try:\n",
    "        for tweet in tweepy.Cursor(self.api.search, q=query, rpp=100).items(10):\n",
    "            tweet.retweet()\n",
    "        print(\"Liked and favorated {}\".tweet.text)\n",
    "    except Exception as e:\n",
    "        print(\"Error in like_and_retweet\")\n",
    "\n",
    "retweet_post(\"#100daysofcode\")"
   ]
  },
  {
   "cell_type": "markdown",
   "metadata": {},
   "source": [
    "##### A Function that takes search query string as input searches for tweets with given query string and likes it"
   ]
  },
  {
   "cell_type": "code",
   "execution_count": null,
   "metadata": {},
   "outputs": [],
   "source": [
    "## Like a post and retweet\n",
    "def like_tweet(self, query):\n",
    "    try:\n",
    "        for tweet in tweepy.Cursor(self.api.search, q=query, rpp=100).items(10):\n",
    "            tweet.favorite()\n",
    "        print(\"Liked and favorated {}\".tweet.text)\n",
    "    except Exception as e:\n",
    "        print(\"Error in like_and_retweet\")\n",
    "\n",
    "like_tweet(\"#100daysofcode\")"
   ]
  },
  {
   "cell_type": "markdown",
   "metadata": {},
   "source": [
    "Three basic functions are enough for now we can add more if required. I personally use only these 3 features most frequently but there is a lot we can do. A detailed documentation is available [here](http://docs.tweepy.org/en/v3.5.0/)"
   ]
  },
  {
   "cell_type": "markdown",
   "metadata": {},
   "source": [
    "### 5. Full code Deployement\n",
    "\n",
    "Now we have understanding of the basing freatures, we can use this to create a program that can perform some scheduled tasks at a given time. This bot is going to perform the bellow tasks\n",
    "\n",
    "* Post one chuck norris joke every saturday\n",
    "* Retweet and like 10 posts every sunday\n",
    "* Save the log of all activity in a json file\n",
    "\n",
    "We are going to use python schedule library for scheduling its a fairly simple library and makes it really easier to schedule tasks, for deployement I'll be using https://pythonanywhere.com because it has a free plan and can be accessed from anywhere."
   ]
  },
  {
   "cell_type": "code",
   "execution_count": 6,
   "metadata": {},
   "outputs": [
    {
     "name": "stdout",
     "output_type": "stream",
     "text": [
      "Connected user Naveen singh\n",
      "Updating status\n",
      "Tornados occur when Chuck Norris sneezes.#TweetByBot\n",
      "Retwitting called\n"
     ]
    }
   ],
   "source": [
    "import tweepy\n",
    "import requests\n",
    "\n",
    "class TwitterAPI:\n",
    "    \n",
    "    def __init__(self):\n",
    "        \n",
    "        with open(\"localconfig.json\", 'r') as config_file:\n",
    "            config = json.load(config_file)\n",
    "        creds = config[0]['twitter']\n",
    "        \n",
    "        consumer_key = creds['consumer_key']\n",
    "        consumer_secret = creds['consumer_secret']\n",
    "        access_token = creds['access_token']\n",
    "        access_token_secret = creds['access_token_secret']\n",
    "        \n",
    "        auth = tweepy.OAuthHandler(consumer_key, consumer_secret)\n",
    "        auth.set_access_token(access_token, access_token_secret)\n",
    "        self.api = tweepy.API(auth)\n",
    "        \n",
    "        user = self.api.me()\n",
    "        print(\"Connected user {}\".format(user.name))\n",
    "        \n",
    "    def get_chuck_joke(self):\n",
    "        \"\"\" This function fetches a chuck norris joke from the internet \"\"\"\n",
    "        url = \"http://api.icndb.com/jokes/random\"\n",
    "        jres = requests.get(url).json()\n",
    "        return jres['value']['joke']\n",
    "\n",
    "    def write_log(self, payload):\n",
    "        \"\"\"Creates a log of all the actions performed by the bot \"\"\"\n",
    "        try:\n",
    "            with open(\"log.json\", 'r') as log_file:\n",
    "                data = json.load(log_file)\n",
    "                data.append(payload[0])\n",
    "\n",
    "            print(\"Saving logs\")\n",
    "            with open(\"log.json\", 'w') as log_file:\n",
    "                json.dump(data, log_file)\n",
    "\n",
    "        except FileNotFoundError:\n",
    "            print(\"Log file not found, writing new log\")\n",
    "            with open(\"log.json\", 'w') as log_file:\n",
    "                json.dump(payload, log_file)\n",
    "\n",
    "    def like_and_retweet(self, query):\n",
    "        try:\n",
    "            with open(\"log.json\", 'r') as log_file:\n",
    "                data = json.load(log_file)\n",
    "            last_id = max([i['id'] for i in data])\n",
    "            for tweet in tweepy.Cursor(self.api.search, q=query, since_id=last_id).items():\n",
    "                try:\n",
    "                    tweet.retweet()\n",
    "                    tweet.favorite()\n",
    "                    print(\"Retweeted {} \".format(tweet.text))\n",
    "\n",
    "                    ## Saving logs\n",
    "                    tweet_id = tweet.id\n",
    "                    text = tweet.text\n",
    "                    payload = {\n",
    "                        \"id\": tweet_id,\n",
    "                        \"type\":\"retweet\",\n",
    "                        \"text\":text,\n",
    "                        \"addedon\": int(dt.strftime(dt.now(),\"%s\"))\n",
    "                    }\n",
    "                    write_log([payload])\n",
    "                except Exception as e:\n",
    "                    print(e)\n",
    "                    continue\n",
    "        except FileNotFoundError:\n",
    "            for tweet in tweepy.Cursor(self.api.search, q=query, rpp=100).items(10):\n",
    "                try:\n",
    "                    tweet.retweet()\n",
    "                    tweet.favorite()\n",
    "                    print(\"Retweeted {} \".format(tweet.text))\n",
    "\n",
    "                    ## Saving logs\n",
    "                    tweet_id = tweet.id\n",
    "                    text = tweet.text\n",
    "                    payload = {\n",
    "                        \"id\": tweet_id,\n",
    "                        \"type\":\"retweet\",\n",
    "                        \"text\":text,\n",
    "                        \"addedon\": int(dt.strftime(dt.now(),\"%s\"))\n",
    "                    }\n",
    "                    write_log([payload])\n",
    "                except TweepError as e:\n",
    "                    print(e)\n",
    "                    continue\n",
    "\n",
    "    def update_status(self):\n",
    "        \"\"\" This function tweets using the tweetpy API \"\"\"\n",
    "        try:\n",
    "            joke = self.get_chuck_joke()\n",
    "            joke = joke + \" #TweetByBot\"\n",
    "            self.api.update_status(joke)\n",
    "            with open(\"log.json\", 'r') as log_file:\n",
    "                data = json.load(log_file)\n",
    "            tweet_id = [i for i in data if i['type'] == 'status_update']\n",
    "            print(tweet_id)\n",
    "            payload = {\n",
    "                \"id\": len(tweet_id)+1,\n",
    "                \"type\":\"status_update\",\n",
    "                \"text\":text,\n",
    "                \"addedon\": int(dt.strftime(dt.now(),\"%s\"))\n",
    "            }\n",
    "            write_log([payload])\n",
    "        except Exception as e:\n",
    "            print(\"Error in update_status\", str(e))\n",
    "\n",
    "\n",
    "import schedule # !pip install schedule\n",
    "import time\n",
    "\n",
    "twitter_api = TwitterAPI()    \n",
    "schedule.every().saturday.do(twitter_api.update_status)\n",
    "schedule.every().sunday.do(twitter_api.like_and_retweet, \"#100DaysOfMLCode\")\n",
    "\n",
    "while True:\n",
    "    schedule.run_pending()\n",
    "    time.sleep(1)"
   ]
  },
  {
   "cell_type": "markdown",
   "metadata": {},
   "source": [
    "### Final Notes: \n",
    "We now have a working Twitter bot. We only have some basic features for now but we can add more features based on the requirements. We can also built some use cases to solve a specific need or do some basic ML tasks like sentiment analysis and other kind of text analysis. Full code repo is available on github. Feel free to check other sections and blog posts and leave a comment for any question or suggestion "
   ]
  }
 ],
 "metadata": {
  "kernelspec": {
   "display_name": "Python 3",
   "language": "python",
   "name": "python3"
  }
 },
 "nbformat": 4,
 "nbformat_minor": 2
}
